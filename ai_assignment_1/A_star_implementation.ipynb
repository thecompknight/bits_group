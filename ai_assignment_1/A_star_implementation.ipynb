{
 "cells": [
  {
   "cell_type": "markdown",
   "metadata": {},
   "source": [
    "<center><h1> Artifical and Computational Intelligence Assignment 1 </h1></center>\n",
    " \n",
    "Problem Solving by using A*\n",
    "\n",
    "Weightage: 13%\n",
    "\n",
    "Date of Posting - 09/Dec/2019\n",
    "\n",
    "Deadline - 24/Dec/2019"
   ]
  },
  {
   "cell_type": "markdown",
   "metadata": {},
   "source": [
    "Please Enter group and Individual information below:\n",
    "\n",
    "Group ID/Number: ACI_GROUP010\n",
    "\n",
    "Group Members BITS ID: 2018AB04579"
   ]
  },
  {
   "cell_type": "markdown",
   "metadata": {},
   "source": [
    "<h3>Things to Follow</h3>\n",
    "\n",
    "1. Use appropriate data structures for the fringes and explain the reasoning behind the usage. You need not create data structures, instead use available libraries directly.\n",
    "\n",
    "2. Avoid any hard-coding unless absolutely necessary.\n",
    "\n",
    "3. Provide proper documentation\n",
    "\n",
    "4. Read the question file provided carefully and attempt all the questions! "
   ]
  },
  {
   "cell_type": "markdown",
   "metadata": {},
   "source": [
    "Coding begins now!!!"
   ]
  },
  {
   "cell_type": "markdown",
   "metadata": {},
   "source": [
    "1) Define the environment representation in the following code block"
   ]
  },
  {
   "cell_type": "code",
   "execution_count": 17,
   "metadata": {},
   "outputs": [],
   "source": [
    "#Environment representation goes here\n",
    "\n",
    "class City:\n",
    "  def __init__(self, name, lat, long):\n",
    "    self.name = name\n",
    "    self.lat = lat\n",
    "    self.long = long\n",
    "\n",
    "\n",
    "# A dictionary which gives city details for a given city\n",
    "city_map = {}\n",
    "\n",
    "city_map[\"Panji\"] = City(\"Panji\",15.4909, 73.8278)\n",
    "city_map[\"Raichur\"] = City(\"Raichur\",16.2076, 77.3463)\n",
    "city_map[\"Mangalore\"] = City(\"Mangalore\",12.9141, 74.8560)\n",
    "city_map[\"Bellari\"] = City(\"Bellari\",15.1394, 76.9214)\n",
    "city_map[\"Tirupati\"] = City(\"Tirupati\",13.6288, 79.4192)\n",
    "city_map[\"Kurnool\"] = City(\"Kurnool\",15.8281, 78.0373)\n",
    "city_map[\"Kozhikode\"] = City(\"Kozhikode\",11.2588, 75.7804)\n",
    "city_map[\"Bangalore\"] = City(\"Bangalore\",12.9716, 77.5946)\n",
    "city_map[\"Nellore\"] = City(\"Nellore\",14.4426, 79.9865)\n",
    "city_map[\"Chennai\"] = City(\"Chennai\",13.0827, 80.2707)\n",
    "\n",
    "# A dictionary of dictionaries to represent the graph of city connections\n",
    "city_connections = {}\n",
    "\n",
    "city_connections[\"Panji\"] = {}\n",
    "city_connections[\"Raichur\"] = {}\n",
    "city_connections[\"Mangalore\"] = {}\n",
    "city_connections[\"Bellari\"] = {}\n",
    "city_connections[\"Tirupati\"] = {}\n",
    "city_connections[\"Kurnool\"] = {}\n",
    "city_connections[\"Kozhikode\"] = {}\n",
    "city_connections[\"Bangalore\"] = {}\n",
    "city_connections[\"Nellore\"] = {}\n",
    "city_connections[\"Chennai\"] = {}\n",
    "\n",
    "#city connections of Panji\n",
    "city_connections[\"Panji\"][\"Raichur\"] = 457\n",
    "city_connections[\"Panji\"][\"Bellari\"] = 409\n",
    "city_connections[\"Panji\"][\"Mangalore\"] = 365\n",
    "\n",
    "#city connections of Mangalore\n",
    "city_connections[\"Mangalore\"][\"Panji\"] = 365\n",
    "city_connections[\"Mangalore\"][\"Bangalore\"] = 352\n",
    "city_connections[\"Mangalore\"][\"Kozhikode\"] = 233\n",
    "\n",
    "#city connections of Bellari\n",
    "city_connections[\"Bellari\"][\"Panji\"] = 409\n",
    "city_connections[\"Bellari\"][\"Tirupati\"] = 379\n",
    "city_connections[\"Bellari\"][\"Bangalore\"] = 311\n",
    "\n",
    "#city connections of Raichur\n",
    "city_connections[\"Raichur\"][\"Panji\"] = 457\n",
    "city_connections[\"Raichur\"][\"Tirupati\"] = 453\n",
    "city_connections[\"Raichur\"][\"Kurnool\"] = 100\n",
    "\n",
    "#city connections of Tirupati\n",
    "city_connections[\"Tirupati\"][\"Raichur\"] = 453\n",
    "city_connections[\"Tirupati\"][\"Bellari\"] = 379\n",
    "city_connections[\"Tirupati\"][\"Kurnool\"] = 340\n",
    "city_connections[\"Tirupati\"][\"Chennai\"] = 153\n",
    "city_connections[\"Tirupati\"][\"Nellore\"] = 136\n",
    "\n",
    "#city connections of Kurnool\n",
    "city_connections[\"Kurnool\"][\"Raichur\"] = 100\n",
    "city_connections[\"Kurnool\"][\"Tirupati\"] = 340\n",
    "city_connections[\"Kurnool\"][\"Nellore\"] = 325\n",
    "\n",
    "#city connections of Nellore\n",
    "city_connections[\"Nellore\"][\"Chennai\"] = 175\n",
    "city_connections[\"Nellore\"][\"Tirupati\"] = 136\n",
    "city_connections[\"Nellore\"][\"Kurnool\"] = 325\n",
    "\n",
    "#city connections of Chennai\n",
    "city_connections[\"Chennai\"][\"Nellore\"] = 175\n",
    "city_connections[\"Chennai\"][\"Tirupati\"] = 153\n",
    "city_connections[\"Chennai\"][\"Bangalore\"] = 346\n",
    "\n",
    "#city connections of Bangalore\n",
    "city_connections[\"Bangalore\"][\"Mangalore\"] = 352\n",
    "city_connections[\"Bangalore\"][\"Bellari\"] = 311\n",
    "city_connections[\"Bangalore\"][\"Chennai\"] = 346\n",
    "city_connections[\"Bangalore\"][\"Kozhikode\"] = 356\n",
    "\n",
    "#city connections of Kozhikode\n",
    "city_connections[\"Kozhikode\"][\"Mangalore\"] = 233\n",
    "city_connections[\"Kozhikode\"][\"Bangalore\"] = 356\n",
    "\n",
    "\n",
    "#test function to validate that environment is consistent\n",
    "def validate_city_connections():\n",
    "    for key1 in city_connections:\n",
    "        for key2 in city_connections:\n",
    "            print(\"checking for \"+key1+\" and \"+key2)\n",
    "            if key1!=key2 and (key2 in city_connections[key1]) and city_connections[key1][key2]!=city_connections[key2][key1]:\n",
    "                print(\"There is a problem between\"+key1+\" and \"+key2+\" entry\")\n",
    "    print(\"validation complete\")\n",
    "        \n",
    "\n",
    "\n",
    "\n",
    "\n",
    "\n",
    "\n",
    "\n",
    "\n",
    "\n",
    "\n",
    "\n"
   ]
  },
  {
   "cell_type": "markdown",
   "metadata": {},
   "source": [
    "Define the haversine formula and what it does"
   ]
  },
  {
   "cell_type": "code",
   "execution_count": 23,
   "metadata": {},
   "outputs": [],
   "source": [
    "#haversine formula representation \n",
    "\n",
    "from math import radians, cos, sin, asin, sqrt\n",
    "\n",
    "def haversine(lat1, lon1, lat2, lon2):\n",
    "      R = 6371 # Earth radius in kilometers as given in the article\n",
    "\n",
    "      # convert the difference between latitudes to radians\n",
    "      dLat = radians(lat2 - lat1)\n",
    "      # convert the difference between longitudes to radians\n",
    "      dLon = radians(lon2 - lon1)\n",
    "      # convert the latitudes of both the points to radians\n",
    "      lat1 = radians(lat1)\n",
    "      lat2 = radians(lat2)\n",
    "\n",
    "      # haversine formula\n",
    "      a = sin(dLat/2)**2 + cos(lat1)*cos(lat2)*sin(dLon/2)**2\n",
    "      c = 2*asin(sqrt(a))\n",
    "\n",
    "      # distance between two points in Kms\n",
    "      return R * c\n",
    "\n",
    "      "
   ]
  },
  {
   "cell_type": "markdown",
   "metadata": {},
   "source": [
    "2) Define a function which calculates the heuristic distance from each city to the destination city in the following code block"
   ]
  },
  {
   "cell_type": "code",
   "execution_count": 26,
   "metadata": {},
   "outputs": [
    {
     "data": {
      "text/plain": [
       "334.06747632561655"
      ]
     },
     "execution_count": 26,
     "metadata": {},
     "output_type": "execute_result"
    }
   ],
   "source": [
    "#Function for calculating distance from each node/city to Destination\n",
    "\n",
    "# This method uses the haversine function to return heuristical distance between two given cities\n",
    "def heuristic_distance_between(source, destination):\n",
    "    source_city = city_map[source]\n",
    "    dest_city = city_map[destination]\n",
    "    return haversine(source_city.lat, source_city.long, dest_city.lat, dest_city.long)\n"
   ]
  },
  {
   "cell_type": "code",
   "execution_count": null,
   "metadata": {},
   "outputs": [],
   "source": [
    "#Code Block 2 .."
   ]
  },
  {
   "cell_type": "markdown",
   "metadata": {},
   "source": [
    "3) Implementation of A* Algorithm . Feel free to add code blocks for each methods needed starting here.\n",
    "Please modularize the implementation of A* and write each of them in a code block. "
   ]
  },
  {
   "cell_type": "code",
   "execution_count": null,
   "metadata": {},
   "outputs": [],
   "source": [
    "#Code Block 1\n"
   ]
  },
  {
   "cell_type": "code",
   "execution_count": null,
   "metadata": {},
   "outputs": [],
   "source": [
    "#Code Block 2 .. "
   ]
  },
  {
   "cell_type": "markdown",
   "metadata": {},
   "source": [
    "Call your main function/algorithm block in the next code block with appropriate input representation"
   ]
  },
  {
   "cell_type": "code",
   "execution_count": null,
   "metadata": {},
   "outputs": [],
   "source": [
    "#Computation call\n"
   ]
  },
  {
   "cell_type": "markdown",
   "metadata": {},
   "source": [
    "The agent should provide expected output for questions mentioned below in the subsequent blocks"
   ]
  },
  {
   "cell_type": "markdown",
   "metadata": {},
   "source": [
    "(3.1) Path taken to reach destination from Panaji"
   ]
  },
  {
   "cell_type": "code",
   "execution_count": null,
   "metadata": {},
   "outputs": [],
   "source": [
    "# Execute statement to retrieve the path taken here\n"
   ]
  },
  {
   "cell_type": "markdown",
   "metadata": {},
   "source": [
    "(3.2) Cost of the path"
   ]
  },
  {
   "cell_type": "code",
   "execution_count": null,
   "metadata": {},
   "outputs": [],
   "source": [
    "# Execute statement to retrieve the cost of the path here\n"
   ]
  },
  {
   "cell_type": "markdown",
   "metadata": {},
   "source": [
    "(3.3) Total Number of nodes vistied to get this state"
   ]
  },
  {
   "cell_type": "code",
   "execution_count": null,
   "metadata": {},
   "outputs": [],
   "source": [
    "# Execute statement to retrieve the total number of nodes visited to get this state here\n"
   ]
  },
  {
   "cell_type": "markdown",
   "metadata": {},
   "source": [
    "<center>All the best!! Happy Coding!!Let human intelligence prevail</center>\n",
    "<center>**********************************************************</center>"
   ]
  }
 ],
 "metadata": {
  "kernelspec": {
   "display_name": "Python 3",
   "language": "python",
   "name": "python3"
  },
  "language_info": {
   "codemirror_mode": {
    "name": "ipython",
    "version": 3
   },
   "file_extension": ".py",
   "mimetype": "text/x-python",
   "name": "python",
   "nbconvert_exporter": "python",
   "pygments_lexer": "ipython3",
   "version": "3.7.4"
  }
 },
 "nbformat": 4,
 "nbformat_minor": 2
}
