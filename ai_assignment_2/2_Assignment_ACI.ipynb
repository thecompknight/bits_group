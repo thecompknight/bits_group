{
 "cells": [
  {
   "cell_type": "markdown",
   "metadata": {},
   "source": [
    "<center><h2>Artificial and Computational Intelligence (Assignment - 2)</h2></center>"
   ]
  },
  {
   "cell_type": "markdown",
   "metadata": {},
   "source": [
    "## Problem Statement\n",
    "\n",
    "As part of the 2nd Assignment, we'll implement Bayesian Networks and also learn to use the pomegranate library.\n",
    "\n",
    "You are required to create a bayesian network model which would help you predict the probability. The detailed problem description is attached as a PDF as a part of this assignment along with the marking scheme.  \n",
    "\n",
    "### What is a Bayesian Network ?\n",
    "\n",
    "A Bayesian network, Bayes network, belief network, decision network, Bayes(ian) model or probabilistic directed acyclic graphical model is a probabilistic graphical model (a type of statistical model) that represents a set of variables and their conditional dependencies via a directed acyclic graph (DAG). \n",
    "\n",
    "Bayesian networks are ideal for taking an event that occurred and predicting the likelihood that any one of several possible known causes was the contributing factor. For example, a Bayesian network could represent the probabilistic relationships between diseases and symptoms. Given symptoms, the network can be used to compute the probabilities of the presence of various diseases. \n",
    "\n",
    "### Dataset\n",
    "\n",
    "The dataset can be downloaded from https://drive.google.com/drive/folders/1oMtKmmvPkN4O8DmrHMJe6M8CbB93Z5kw .You can access it only using your BITS IDs. Also, the same dataset is attached along with the assignment. \n",
    "\n",
    "#### Dataset Description\n",
    "##### Sample Tuple\n",
    "\n",
    "Y\twon\t5wickets\tlost\t2nd\tvWest_Indies\tHome\t6-Nov-11\n",
    "\n",
    "##### Explanation\n",
    "- The first column represents if Ashwin was in the playing 11 or not. \n",
    "- The second column represents the Result of the match . win indicates India won the match.\n",
    "- The third column represents the Margin of victory / losss.\n",
    "- The fourth column represents the results of the toss. won indicates India won the toss. \n",
    "- The fifth column represents the batting order. If India batted 1st or 2nd. \n",
    "- The sixth column represents the opponent.\n",
    "- The seventh column represents the location of the match. If the match was held in Home(India) or away. \n",
    "- The last column represents the start date of the match.\n",
    "\n",
    "\n",
    "### Evaluation\n",
    "We wish to evaluate based on \n",
    "- coding practices being followed\n",
    "- commenting to explain the code and logic behind doing something\n",
    "- your understanding and explanation of data\n",
    "- how good the model would perform"
   ]
  },
  {
   "cell_type": "code",
   "execution_count": null,
   "metadata": {},
   "outputs": [],
   "source": [
    "# BITS RollNumbers , Names. \n",
    "# 2018AB04579, Abhishek.K.R.\n"
   ]
  },
  {
   "cell_type": "code",
   "execution_count": 50,
   "metadata": {},
   "outputs": [],
   "source": [
    "#Import libraries\n",
    "import openpyxl\n",
    "%matplotlib inline\n",
    "import matplotlib.pyplot as plt\n",
    "import seaborn; seaborn.set_style('whitegrid')\n",
    "import numpy as np\n",
    "from collections import Counter\n",
    "\n",
    "from pomegranate import *\n",
    "\n",
    "np.random.seed(0)\n",
    "np.set_printoptions(suppress=True)"
   ]
  },
  {
   "cell_type": "code",
   "execution_count": 68,
   "metadata": {},
   "outputs": [],
   "source": [
    "def get_prior_probability(arr):\n",
    "    total_count = arr.size\n",
    "    counter = Counter(arr)\n",
    "    counter = dict(counter)\n",
    "    for key in counter:\n",
    "        counter[key] = counter[key]/total_count\n",
    "    return counter\n",
    "\n",
    "\n",
    "def row_count(ws):\n",
    "    return len([row for row in ws if not all([cell.value == None for cell in row])])"
   ]
  },
  {
   "cell_type": "code",
   "execution_count": 69,
   "metadata": {},
   "outputs": [
    {
     "name": "stdout",
     "output_type": "stream",
     "text": [
      "lost\n",
      "won\n",
      "{'lost': 0.5294117647058824, 'won': 0.47058823529411764}\n"
     ]
    }
   ],
   "source": [
    "#Read data\n",
    "wb_obj = openpyxl.load_workbook(\"India_Test_stats.xlsx\") \n",
    "sheet_obj = wb_obj.active\n",
    "\n",
    "dataset = []\n",
    "total_rows = row_count(sheet_obj)\n",
    "for row in sheet_obj.rows:\n",
    "    arr = []\n",
    "    if ((total_rows)==0):\n",
    "        break\n",
    "    total_rows=total_rows-1\n",
    "    for column in row:\n",
    "        arr.append(column.value)\n",
    "    dataset.append(arr)\n",
    "\n",
    "dataset = np.array(dataset)\n",
    "dataset = np.delete(dataset,0,0)\n",
    "ASHWIN_PLAYED_INDEX = 0\n",
    "RESULT_INDEX = 1\n",
    "TOSS_INDEX = 3\n",
    "BAT_INDEX = 4\n",
    "LOCATION_INDEX = 6\n",
    "\n",
    "\n",
    "print(get_prior_probability(dataset[:,TOSS_INDEX])) \n"
   ]
  },
  {
   "cell_type": "code",
   "execution_count": 61,
   "metadata": {},
   "outputs": [],
   "source": [
    "#Pre-process data (Whatever you feel might be required)"
   ]
  },
  {
   "cell_type": "code",
   "execution_count": null,
   "metadata": {},
   "outputs": [],
   "source": [
    "#Data Description"
   ]
  },
  {
   "cell_type": "code",
   "execution_count": null,
   "metadata": {},
   "outputs": [],
   "source": [
    "#Construction of Bayesian Network goes here "
   ]
  },
  {
   "cell_type": "code",
   "execution_count": null,
   "metadata": {},
   "outputs": [],
   "source": [
    "#Solution for part 1 "
   ]
  },
  {
   "cell_type": "code",
   "execution_count": null,
   "metadata": {},
   "outputs": [],
   "source": [
    "#Solution for part 2 "
   ]
  },
  {
   "cell_type": "code",
   "execution_count": null,
   "metadata": {},
   "outputs": [],
   "source": [
    "#Solution for part 3 "
   ]
  },
  {
   "cell_type": "code",
   "execution_count": null,
   "metadata": {},
   "outputs": [],
   "source": [
    "#Solution for part 4\n",
    "# a)\n",
    "# b) \n",
    "# c)\n",
    "# d) "
   ]
  },
  {
   "cell_type": "code",
   "execution_count": null,
   "metadata": {},
   "outputs": [],
   "source": [
    "#Feel free to add cells where necessary. "
   ]
  },
  {
   "cell_type": "markdown",
   "metadata": {},
   "source": [
    "<h3><center> Happy Coding!</center></h3>"
   ]
  }
 ],
 "metadata": {
  "kernelspec": {
   "display_name": "Python 3",
   "language": "python",
   "name": "python3"
  },
  "language_info": {
   "codemirror_mode": {
    "name": "ipython",
    "version": 3
   },
   "file_extension": ".py",
   "mimetype": "text/x-python",
   "name": "python",
   "nbconvert_exporter": "python",
   "pygments_lexer": "ipython3",
   "version": "3.7.4"
  }
 },
 "nbformat": 4,
 "nbformat_minor": 2
}
