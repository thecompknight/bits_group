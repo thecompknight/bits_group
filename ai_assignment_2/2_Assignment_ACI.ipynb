{
 "cells": [
  {
   "cell_type": "markdown",
   "metadata": {},
   "source": [
    "<center><h2>Artificial and Computational Intelligence (Assignment - 2)</h2></center>"
   ]
  },
  {
   "cell_type": "markdown",
   "metadata": {},
   "source": [
    "## Problem Statement\n",
    "\n",
    "As part of the 2nd Assignment, we'll implement Bayesian Networks and also learn to use the pomegranate library.\n",
    "\n",
    "You are required to create a bayesian network model which would help you predict the probability. The detailed problem description is attached as a PDF as a part of this assignment along with the marking scheme.  \n",
    "\n",
    "### What is a Bayesian Network ?\n",
    "\n",
    "A Bayesian network, Bayes network, belief network, decision network, Bayes(ian) model or probabilistic directed acyclic graphical model is a probabilistic graphical model (a type of statistical model) that represents a set of variables and their conditional dependencies via a directed acyclic graph (DAG). \n",
    "\n",
    "Bayesian networks are ideal for taking an event that occurred and predicting the likelihood that any one of several possible known causes was the contributing factor. For example, a Bayesian network could represent the probabilistic relationships between diseases and symptoms. Given symptoms, the network can be used to compute the probabilities of the presence of various diseases. \n",
    "\n",
    "### Dataset\n",
    "\n",
    "The dataset can be downloaded from https://drive.google.com/drive/folders/1oMtKmmvPkN4O8DmrHMJe6M8CbB93Z5kw .You can access it only using your BITS IDs. Also, the same dataset is attached along with the assignment. \n",
    "\n",
    "#### Dataset Description\n",
    "##### Sample Tuple\n",
    "\n",
    "Y\twon\t5wickets\tlost\t2nd\tvWest_Indies\tHome\t6-Nov-11\n",
    "\n",
    "##### Explanation\n",
    "- The first column represents if Ashwin was in the playing 11 or not. \n",
    "- The second column represents the Result of the match . win indicates India won the match.\n",
    "- The third column represents the Margin of victory / losss.\n",
    "- The fourth column represents the results of the toss. won indicates India won the toss. \n",
    "- The fifth column represents the batting order. If India batted 1st or 2nd. \n",
    "- The sixth column represents the opponent.\n",
    "- The seventh column represents the location of the match. If the match was held in Home(India) or away. \n",
    "- The last column represents the start date of the match.\n",
    "\n",
    "\n",
    "### Evaluation\n",
    "We wish to evaluate based on \n",
    "- coding practices being followed\n",
    "- commenting to explain the code and logic behind doing something\n",
    "- your understanding and explanation of data\n",
    "- how good the model would perform"
   ]
  },
  {
   "cell_type": "code",
   "execution_count": null,
   "metadata": {},
   "outputs": [],
   "source": [
    "# BITS RollNumbers , Names. \n",
    "# 2018AB04579, Abhishek.K.R.\n"
   ]
  },
  {
   "cell_type": "code",
   "execution_count": 334,
   "metadata": {},
   "outputs": [],
   "source": [
    "#Import libraries\n",
    "import openpyxl\n",
    "%matplotlib inline\n",
    "import matplotlib.pyplot as plt\n",
    "import seaborn; seaborn.set_style('whitegrid')\n",
    "import numpy as np\n",
    "from collections import Counter\n",
    "\n",
    "from pomegranate import *\n",
    "\n",
    "np.random.seed(0)\n",
    "np.set_printoptions(suppress=True)"
   ]
  },
  {
   "cell_type": "code",
   "execution_count": 335,
   "metadata": {},
   "outputs": [],
   "source": [
    "def get_prior_probability(arr):\n",
    "    total_count = arr.size\n",
    "    counter = Counter(arr)\n",
    "    counter = dict(counter)\n",
    "    for key in counter:\n",
    "        counter[key] = counter[key]/total_count\n",
    "    return counter\n",
    "\n",
    "def get_posterior_probability(arr):\n",
    "    total_columns = arr.shape[1]\n",
    "    sub_arr = arr[:,:total_columns-1]\n",
    "    unique_arr = np.vstack({tuple(row) for row in arr})\n",
    "    unique_sub_arr = np.vstack({tuple(row) for row in sub_arr})\n",
    "\n",
    "    unique_sub_arr_count = get_unique_row_count(sub_arr)\n",
    "    unique_arr_count = get_unique_row_count(arr)\n",
    "\n",
    "    postererior_probability_arr = []\n",
    "    \n",
    "    for t in unique_arr_count:\n",
    "        temp_arr = list(t)\n",
    "        \n",
    "        temp_sub_arr = temp_arr[:len(temp_arr)-1]\n",
    "        \n",
    "        probability = unique_arr_count[tuple(temp_arr)]/unique_sub_arr_count[tuple(temp_sub_arr)]\n",
    "        temp_arr.append(float(probability))\n",
    "        postererior_probability_arr.append(temp_arr)\n",
    "        \n",
    "    postererior_probability_arr.append(['Y', 'lost', '2nd', 'Away', 'won', 0.0])\n",
    "    postererior_probability_arr.append(['Y', 'lost', '1st', 'Home', 'won', 0.0])\n",
    "    postererior_probability_arr.append(['Y', 'lost', '1st', 'Home', 'lost', 0.0])\n",
    "    postererior_probability_arr.append(['Y', 'lost', '1st', 'Away', 'draw', 0.0])\n",
    "    postererior_probability_arr.append(['Y', 'won', '2nd', 'Home', 'lost', 0.0])\n",
    "    postererior_probability_arr.append(['Y', 'won', '2nd', 'Away', 'won', 0.0])\n",
    "    postererior_probability_arr.append(['Y', 'won', '2nd', 'Away', 'lost', 0.0])\n",
    "    postererior_probability_arr.append(['Y', 'won', '2nd', 'Away', 'draw', 0.0])\n",
    "    postererior_probability_arr.append(['N', 'lost', '2nd', 'Home', 'won',0.0])\n",
    "    postererior_probability_arr.append(['N', 'lost', '2nd', 'Home', 'lost',0.0])\n",
    "    postererior_probability_arr.append(['N', 'lost', '2nd', 'Home', 'draw',0.0])\n",
    "    \n",
    "    postererior_probability_arr.append(['N', 'lost', '2nd', 'Away', 'won',0.0])\n",
    "    postererior_probability_arr.append(['N', 'lost', '2nd', 'Away', 'draw',0.0])\n",
    "    postererior_probability_arr.append(['N', 'lost', '1st', 'Home', 'won',0.0])\n",
    "    postererior_probability_arr.append(['N', 'lost', '1st', 'Home', 'lost',0.0])\n",
    "    postererior_probability_arr.append(['N', 'lost', '1st', 'Home', 'draw',0.0])\n",
    "    postererior_probability_arr.append(['N', 'lost', '1st', 'Away', 'draw',0.0])\n",
    "    postererior_probability_arr.append(['N', 'won', '2nd', 'Home', 'won',0.0])\n",
    "    postererior_probability_arr.append(['N', 'won', '2nd', 'Home', 'lost',0.0])\n",
    "    postererior_probability_arr.append(['N', 'won', '2nd', 'Home', 'draw',0.0])\n",
    "    postererior_probability_arr.append(['N', 'won', '2nd', 'Away', 'won',0.0])\n",
    "    postererior_probability_arr.append(['N', 'won', '1st', 'Home', 'won',0.0])\n",
    "    \n",
    "    postererior_probability_arr.append(['N', 'won', '1st', 'Home', 'lost',0.0])\n",
    "    postererior_probability_arr.append(['N', 'won', '1st', 'Home', 'draw',0.0])\n",
    "    \n",
    "    \n",
    "        \n",
    "    \n",
    "    \n",
    "    #('N', 'lost', '2nd', 'Away', 'draw')\n",
    "    \n",
    "    return postererior_probability_arr\n",
    "\n",
    "\n",
    "\n",
    "def get_unique_row_count(arr):\n",
    "    unique_arr_count = Counter()\n",
    "    for x in arr:\n",
    "        unique_arr_count[tuple(x)] += 1\n",
    "    return unique_arr_count\n",
    "\n",
    "def row_count(ws):\n",
    "    return len([row for row in ws if not all([cell.value == None for cell in row])])\n",
    "\n",
    "def unique_rows(data):\n",
    "    uniq = np.unique(data.view(data.dtype.descr * data.shape[1]))\n",
    "    return uniq.view(data.dtype).reshape(-1, data.shape[1])"
   ]
  },
  {
   "cell_type": "code",
   "execution_count": 347,
   "metadata": {},
   "outputs": [
    {
     "name": "stdout",
     "output_type": "stream",
     "text": [
      "Y\tlost\t2nd\tHome\twon\t0.75\n",
      "Y\twon\t1st\tHome\twon\t0.85\n",
      "Y\tlost\t2nd\tHome\tdraw\t0.2\n",
      "Y\tlost\t2nd\tAway\tlost\t0.6363636363636364\n",
      "Y\twon\t1st\tAway\tlost\t0.2727272727272727\n",
      "N\tlost\t1st\tAway\tlost\t0.25\n",
      "Y\twon\t1st\tHome\tlost\t0.10000000000000002\n",
      "Y\twon\t2nd\tHome\twon\t0.5\n",
      "Y\twon\t1st\tAway\tdraw\t0.18181818181818182\n",
      "N\twon\t1st\tAway\tlost\t0.2\n",
      "N\twon\t2nd\tAway\tlost\t0.5\n",
      "N\twon\t2nd\tAway\tdraw\t0.5\n",
      "N\twon\t1st\tAway\tdraw\t0.4\n",
      "N\tlost\t1st\tAway\twon\t0.75\n",
      "N\tlost\t2nd\tAway\tlost\t1.0\n",
      "Y\tlost\t1st\tAway\tlost\t0.4\n",
      "Y\tlost\t2nd\tAway\tdraw\t0.36363636363636365\n",
      "Y\twon\t1st\tAway\twon\t0.5454545454545454\n",
      "Y\tlost\t1st\tAway\twon\t0.6\n",
      "Y\twon\t2nd\tHome\tdraw\t0.5\n",
      "Y\tlost\t2nd\tHome\tlost\t0.05000000000000001\n",
      "Y\tlost\t1st\tHome\tdraw\t1.0\n",
      "Y\twon\t1st\tHome\tdraw\t0.05000000000000001\n",
      "N\twon\t1st\tAway\twon\t0.4\n",
      "Y\tlost\t2nd\tAway\twon\t0.0\n",
      "Y\tlost\t1st\tHome\twon\t0.0\n",
      "Y\tlost\t1st\tHome\tlost\t0.0\n",
      "Y\tlost\t1st\tAway\tdraw\t0.0\n",
      "Y\twon\t2nd\tHome\tlost\t0.0\n",
      "Y\twon\t2nd\tAway\twon\t0.0\n",
      "Y\twon\t2nd\tAway\tlost\t0.0\n",
      "Y\twon\t2nd\tAway\tdraw\t0.0\n",
      "N\tlost\t2nd\tHome\twon\t0.0\n",
      "N\tlost\t2nd\tHome\tlost\t0.0\n",
      "N\tlost\t2nd\tHome\tdraw\t0.0\n",
      "N\tlost\t2nd\tAway\twon\t0.0\n",
      "N\tlost\t2nd\tAway\tdraw\t0.0\n",
      "N\tlost\t1st\tHome\twon\t0.0\n",
      "N\tlost\t1st\tHome\tlost\t0.0\n",
      "N\tlost\t1st\tHome\tdraw\t0.0\n",
      "N\tlost\t1st\tAway\tdraw\t0.0\n",
      "N\twon\t2nd\tHome\twon\t0.0\n",
      "N\twon\t2nd\tHome\tlost\t0.0\n",
      "N\twon\t2nd\tHome\tdraw\t0.0\n",
      "N\twon\t2nd\tAway\twon\t0.0\n",
      "N\twon\t1st\tHome\twon\t0.0\n",
      "N\twon\t1st\tHome\tlost\t0.0\n",
      "N\twon\t1st\tHome\tdraw\t0.0\n"
     ]
    },
    {
     "name": "stderr",
     "output_type": "stream",
     "text": [
      "/Users/abhishek/opt/anaconda3/lib/python3.7/site-packages/ipykernel_launcher.py:12: FutureWarning: arrays to stack must be passed as a \"sequence\" type such as list or tuple. Support for non-sequence iterables such as generators is deprecated as of NumPy 1.16 and will raise an error in the future.\n",
      "  if sys.path[0] == '':\n",
      "/Users/abhishek/opt/anaconda3/lib/python3.7/site-packages/ipykernel_launcher.py:13: FutureWarning: arrays to stack must be passed as a \"sequence\" type such as list or tuple. Support for non-sequence iterables such as generators is deprecated as of NumPy 1.16 and will raise an error in the future.\n",
      "  del sys.path[0]\n"
     ]
    },
    {
     "data": {
      "text/plain": [
       "((), (), (), (), (0, 1, 2, 3))"
      ]
     },
     "execution_count": 347,
     "metadata": {},
     "output_type": "execute_result"
    }
   ],
   "source": [
    "#Read data\n",
    "wb_obj = openpyxl.load_workbook(\"India_Test_stats.xlsx\") \n",
    "sheet_obj = wb_obj.active\n",
    "\n",
    "#Data cleaning\n",
    "dataset = []\n",
    "total_rows = row_count(sheet_obj)\n",
    "for row in sheet_obj.rows:\n",
    "    arr = []\n",
    "    if ((total_rows)==0):\n",
    "        break\n",
    "    total_rows=total_rows-1\n",
    "    for column in row:\n",
    "        arr.append(column.value)\n",
    "    dataset.append(arr)\n",
    "\n",
    "dataset = np.array(dataset)\n",
    "dataset = np.delete(dataset,0,0)\n",
    "ASHWIN_PLAYED_INDEX = 0\n",
    "RESULT_INDEX = 1\n",
    "TOSS_INDEX = 3\n",
    "BAT_INDEX = 4\n",
    "LOCATION_INDEX = 6\n",
    "\n",
    "#removing unwanted columns\n",
    "dataset = dataset[:, [ASHWIN_PLAYED_INDEX, TOSS_INDEX, BAT_INDEX,LOCATION_INDEX,RESULT_INDEX]]\n",
    "\n",
    "\n",
    "# Prior probability of Ashwin playing\n",
    "ashwin_playing = DiscreteDistribution(get_prior_probability(dataset[:,0]))\n",
    "\n",
    "# Prior probability of toss\n",
    "toss = DiscreteDistribution(get_prior_probability(dataset[:,1]))\n",
    "\n",
    "# Prior probability of batting\n",
    "batting = DiscreteDistribution(get_prior_probability(dataset[:,2]))\n",
    "\n",
    "# Prior probability of location\n",
    "location = DiscreteDistribution(get_prior_probability(dataset[:,3]))\n",
    "\n",
    "posterior_prob = get_posterior_probability(dataset)\n",
    "\n",
    "result = ConditionalProbabilityTable(\n",
    "        posterior_prob, [ashwin_playing, toss, batting, location])  \n",
    "\n",
    "print(result)\n",
    "# State objects hold both the distribution, and a high level name.\n",
    "s1 = State(ashwin_playing, name=\"ashwin_playing\")\n",
    "s2 = State(toss, name=\"toss\")\n",
    "s3 = State(batting, name=\"batting\")\n",
    "s4 = State(location, name=\"location\")\n",
    "s5 = State(result, name=\"result\")\n",
    "\n",
    "# Create the Bayesian network object with a useful name\n",
    "model = BayesianNetwork(\"Ashwin Selection Model\")\n",
    "\n",
    "# Add the five states to the network \n",
    "model.add_states(s1, s2, s3, s4, s5)\n",
    "\n",
    "# Add edges which represent conditional dependencies, where the fifth node is \n",
    "# conditionally dependent on all the other nodes\n",
    "model.add_edge(s1, s5)\n",
    "model.add_edge(s2, s5)\n",
    "model.add_edge(s3, s5)\n",
    "model.add_edge(s4, s5)\n",
    "\n",
    "model.bake()\n",
    "model.structure\n"
   ]
  },
  {
   "cell_type": "code",
   "execution_count": 346,
   "metadata": {},
   "outputs": [
    {
     "data": {
      "text/plain": [
       "array([{\n",
       "    \"class\" :\"Distribution\",\n",
       "    \"dtype\" :\"str\",\n",
       "    \"name\" :\"DiscreteDistribution\",\n",
       "    \"parameters\" :[\n",
       "        {\n",
       "            \"Y\" :0.8940322344083566,\n",
       "            \"N\" :0.10596776559164342\n",
       "        }\n",
       "    ],\n",
       "    \"frozen\" :false\n",
       "},\n",
       "       {\n",
       "    \"class\" :\"Distribution\",\n",
       "    \"dtype\" :\"str\",\n",
       "    \"name\" :\"DiscreteDistribution\",\n",
       "    \"parameters\" :[\n",
       "        {\n",
       "            \"lost\" :0.585939409742027,\n",
       "            \"won\" :0.4140605902579731\n",
       "        }\n",
       "    ],\n",
       "    \"frozen\" :false\n",
       "},\n",
       "       {\n",
       "    \"class\" :\"Distribution\",\n",
       "    \"dtype\" :\"str\",\n",
       "    \"name\" :\"DiscreteDistribution\",\n",
       "    \"parameters\" :[\n",
       "        {\n",
       "            \"2nd\" :0.401039714485928,\n",
       "            \"1st\" :0.5989602855140721\n",
       "        }\n",
       "    ],\n",
       "    \"frozen\" :false\n",
       "},\n",
       "       {\n",
       "    \"class\" :\"Distribution\",\n",
       "    \"dtype\" :\"str\",\n",
       "    \"name\" :\"DiscreteDistribution\",\n",
       "    \"parameters\" :[\n",
       "        {\n",
       "            \"Home\" :0.5062904356045173,\n",
       "            \"Away\" :0.49370956439548275\n",
       "        }\n",
       "    ],\n",
       "    \"frozen\" :false\n",
       "},\n",
       "       {\n",
       "    \"class\" :\"Distribution\",\n",
       "    \"dtype\" :\"str\",\n",
       "    \"name\" :\"DiscreteDistribution\",\n",
       "    \"parameters\" :[\n",
       "        {\n",
       "            \"won\" :0.4437592315772162,\n",
       "            \"lost\" :0.23667108399642678,\n",
       "            \"draw\" :0.3195696844263571\n",
       "        }\n",
       "    ],\n",
       "    \"frozen\" :false\n",
       "}], dtype=object)"
      ]
     },
     "execution_count": 346,
     "metadata": {},
     "output_type": "execute_result"
    }
   ],
   "source": [
    "model.predict_proba([None,None,None,None,None])"
   ]
  },
  {
   "cell_type": "code",
   "execution_count": 337,
   "metadata": {},
   "outputs": [
    {
     "data": {
      "text/plain": [
       "array(['Y',\n",
       "       {\n",
       "    \"class\" :\"Distribution\",\n",
       "    \"dtype\" :\"str\",\n",
       "    \"name\" :\"DiscreteDistribution\",\n",
       "    \"parameters\" :[\n",
       "        {\n",
       "            \"lost\" :0.6279069767441859,\n",
       "            \"won\" :0.3720930232558141\n",
       "        }\n",
       "    ],\n",
       "    \"frozen\" :false\n",
       "},\n",
       "       '2nd',\n",
       "       {\n",
       "    \"class\" :\"Distribution\",\n",
       "    \"dtype\" :\"str\",\n",
       "    \"name\" :\"DiscreteDistribution\",\n",
       "    \"parameters\" :[\n",
       "        {\n",
       "            \"Home\" :1.0,\n",
       "            \"Away\" :0.0\n",
       "        }\n",
       "    ],\n",
       "    \"frozen\" :false\n",
       "},\n",
       "       'won'], dtype=object)"
      ]
     },
     "execution_count": 337,
     "metadata": {},
     "output_type": "execute_result"
    }
   ],
   "source": [
    "model.predict_proba(['Y',None,'2nd',None,'won'])\n"
   ]
  },
  {
   "cell_type": "code",
   "execution_count": 338,
   "metadata": {},
   "outputs": [
    {
     "data": {
      "text/plain": [
       "array(['N',\n",
       "       {\n",
       "    \"class\" :\"Distribution\",\n",
       "    \"dtype\" :\"str\",\n",
       "    \"name\" :\"DiscreteDistribution\",\n",
       "    \"parameters\" :[\n",
       "        {\n",
       "            \"lost\" :0.5294117647058824,\n",
       "            \"won\" :0.47058823529411764\n",
       "        }\n",
       "    ],\n",
       "    \"frozen\" :false\n",
       "},\n",
       "       '2nd',\n",
       "       {\n",
       "    \"class\" :\"Distribution\",\n",
       "    \"dtype\" :\"str\",\n",
       "    \"name\" :\"DiscreteDistribution\",\n",
       "    \"parameters\" :[\n",
       "        {\n",
       "            \"Home\" :0.5058823529411764,\n",
       "            \"Away\" :0.49411764705882355\n",
       "        }\n",
       "    ],\n",
       "    \"frozen\" :false\n",
       "},\n",
       "       'won'], dtype=object)"
      ]
     },
     "execution_count": 338,
     "metadata": {},
     "output_type": "execute_result"
    }
   ],
   "source": [
    "model.predict_proba(['N',None,'2nd',None,'won'])\n"
   ]
  },
  {
   "cell_type": "code",
   "execution_count": 339,
   "metadata": {},
   "outputs": [
    {
     "data": {
      "text/plain": [
       "array(['Y',\n",
       "       {\n",
       "    \"class\" :\"Distribution\",\n",
       "    \"dtype\" :\"str\",\n",
       "    \"name\" :\"DiscreteDistribution\",\n",
       "    \"parameters\" :[\n",
       "        {\n",
       "            \"lost\" :1.0,\n",
       "            \"won\" :0.0\n",
       "        }\n",
       "    ],\n",
       "    \"frozen\" :false\n",
       "},\n",
       "       '2nd',\n",
       "       {\n",
       "    \"class\" :\"Distribution\",\n",
       "    \"dtype\" :\"str\",\n",
       "    \"name\" :\"DiscreteDistribution\",\n",
       "    \"parameters\" :[\n",
       "        {\n",
       "            \"Home\" :0.07445301432394161,\n",
       "            \"Away\" :0.9255469856760584\n",
       "        }\n",
       "    ],\n",
       "    \"frozen\" :false\n",
       "},\n",
       "       'lost'], dtype=object)"
      ]
     },
     "execution_count": 339,
     "metadata": {},
     "output_type": "execute_result"
    }
   ],
   "source": [
    "model.predict_proba(['Y',None,'2nd',None,'lost'])\n"
   ]
  },
  {
   "cell_type": "code",
   "execution_count": 340,
   "metadata": {},
   "outputs": [
    {
     "data": {
      "text/plain": [
       "array(['N',\n",
       "       {\n",
       "    \"class\" :\"Distribution\",\n",
       "    \"dtype\" :\"str\",\n",
       "    \"name\" :\"DiscreteDistribution\",\n",
       "    \"parameters\" :[\n",
       "        {\n",
       "            \"lost\" :0.6923076923076922,\n",
       "            \"won\" :0.30769230769230776\n",
       "        }\n",
       "    ],\n",
       "    \"frozen\" :false\n",
       "},\n",
       "       '2nd',\n",
       "       {\n",
       "    \"class\" :\"Distribution\",\n",
       "    \"dtype\" :\"str\",\n",
       "    \"name\" :\"DiscreteDistribution\",\n",
       "    \"parameters\" :[\n",
       "        {\n",
       "            \"Home\" :0.0,\n",
       "            \"Away\" :1.0\n",
       "        }\n",
       "    ],\n",
       "    \"frozen\" :false\n",
       "},\n",
       "       'lost'], dtype=object)"
      ]
     },
     "execution_count": 340,
     "metadata": {},
     "output_type": "execute_result"
    }
   ],
   "source": [
    "model.predict_proba(['N',None,'2nd',None,'lost'])\n"
   ]
  },
  {
   "cell_type": "markdown",
   "metadata": {},
   "source": [
    "###### Pre-process data (Whatever you feel might be required)"
   ]
  },
  {
   "cell_type": "code",
   "execution_count": null,
   "metadata": {},
   "outputs": [],
   "source": [
    "#Data Description"
   ]
  },
  {
   "cell_type": "code",
   "execution_count": null,
   "metadata": {},
   "outputs": [],
   "source": [
    "#Construction of Bayesian Network goes here "
   ]
  },
  {
   "cell_type": "code",
   "execution_count": null,
   "metadata": {},
   "outputs": [],
   "source": [
    "#Solution for part 1 "
   ]
  },
  {
   "cell_type": "code",
   "execution_count": null,
   "metadata": {},
   "outputs": [],
   "source": [
    "#Solution for part 2 "
   ]
  },
  {
   "cell_type": "code",
   "execution_count": null,
   "metadata": {},
   "outputs": [],
   "source": [
    "#Solution for part 3 "
   ]
  },
  {
   "cell_type": "code",
   "execution_count": null,
   "metadata": {},
   "outputs": [],
   "source": [
    "#Solution for part 4\n",
    "# a)\n",
    "# b) \n",
    "# c)\n",
    "# d) "
   ]
  },
  {
   "cell_type": "code",
   "execution_count": null,
   "metadata": {},
   "outputs": [],
   "source": [
    "#Feel free to add cells where necessary. "
   ]
  },
  {
   "cell_type": "markdown",
   "metadata": {},
   "source": [
    "<h3><center> Happy Coding!</center></h3>"
   ]
  }
 ],
 "metadata": {
  "kernelspec": {
   "display_name": "Python 3",
   "language": "python",
   "name": "python3"
  },
  "language_info": {
   "codemirror_mode": {
    "name": "ipython",
    "version": 3
   },
   "file_extension": ".py",
   "mimetype": "text/x-python",
   "name": "python",
   "nbconvert_exporter": "python",
   "pygments_lexer": "ipython3",
   "version": "3.7.4"
  }
 },
 "nbformat": 4,
 "nbformat_minor": 2
}
